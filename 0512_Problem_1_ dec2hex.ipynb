{
 "cells": [
  {
   "cell_type": "code",
   "execution_count": 100,
   "metadata": {},
   "outputs": [
    {
     "name": "stdout",
     "output_type": "stream",
     "text": [
      "16진수를 10진수로 바꾸시려면 A를 입력해주세요\n",
      "10진수를 16진수로 바꾸시려면 B를 입력해주세요\n",
      "B\n",
      "숫자를 입력해주세요\n",
      "50\n",
      "변환 결과는 다음과 같습니다. 32\n"
     ]
    }
   ],
   "source": [
    "while(True):\n",
    "    print(\"16진수를 10진수로 바꾸시려면 A를 입력해주세요\")\n",
    "    print(\"10진수를 16진수로 바꾸시려면 B를 입력해주세요\")\n",
    "    mode = input()\n",
    "    if (mode ==\"A\" or mode ==\"B\"):\n",
    "        print(\"숫자를 입력해주세요\")\n",
    "        num= input()\n",
    "        if (mode ==\"A\"):\n",
    "            num=hex2dec(num)\n",
    "            print(\"10진수로 변환한 결과는 다음과 같습니다.\",num)\n",
    "            break;\n",
    "        elif(mode ==\"B\"):\n",
    "            num=dec2hex(num)\n",
    "            print(\"16진수로 변환한 결과는 다음과 같습니다.\",num)\n",
    "            break;\n",
    "    else:\n",
    "        print(\"잘못된 입력입니다.\")"
   ]
  },
  {
   "cell_type": "code",
   "execution_count": 126,
   "metadata": {},
   "outputs": [],
   "source": [
    "string=['A','B','C','D','E','F']\n",
    "nums= [10,11,12,13,14,15]\n",
    "\n",
    "def hex2dec(num):\n",
    "    #16진수를 10진수로 바꾸는 함수\n",
    "    #입력받은 숫자를 각 자리 수로 분해해 그 16^n을 곱해서 더해준다.\n",
    "    sum=0\n",
    "    for i in range(0,len(num)):\n",
    "        if num[i] in string:\n",
    "            sum += nums[string.index(num[i])]* (16**(len(num)-(i+1)))\n",
    "        else:\n",
    "            sum += int(num[i])*(16**(len(num)-(i+1)))\n",
    "    return sum\n",
    "\n",
    "def dec2hex(num):\n",
    "    #10진수를 16진수로 바꾸는 함수\n",
    "    #입력받은 숫자를 int로 변환하고 16으로 나누어 몫과 나머지를 구해 16진수로 변환\n",
    "    num= int(num)\n",
    "    sum =''\n",
    "    while(True):\n",
    "        q=num%16 \n",
    "        p=num//16\n",
    "        if q >= 10:\n",
    "            q = string[nums.index(q)]\n",
    "        sum += str(q)\n",
    "        num=p\n",
    "        if p == 0:\n",
    "            break;\n",
    "    return sum[::-1] #숫자를앞쪽에서부터 추가하기 때문에 전체 결과를 한번 뒤집어야한다. \n"
   ]
  }
 ],
 "metadata": {
  "kernelspec": {
   "display_name": "Python 3",
   "language": "python",
   "name": "python3"
  },
  "language_info": {
   "codemirror_mode": {
    "name": "ipython",
    "version": 3
   },
   "file_extension": ".py",
   "mimetype": "text/x-python",
   "name": "python",
   "nbconvert_exporter": "python",
   "pygments_lexer": "ipython3",
   "version": "3.7.4"
  }
 },
 "nbformat": 4,
 "nbformat_minor": 2
}
