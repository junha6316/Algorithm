{
 "cells": [
  {
   "cell_type": "code",
   "execution_count": 49,
   "metadata": {},
   "outputs": [
    {
     "data": {
      "text/plain": [
       "'\\n블랙잭\\n한국 최고의 블랙잭 고수 김정인은 새로운 블랙잭 규칙을 만들어 상근, 창영이와 게임하려고 한다.\\n김정인 버전의 블랙잭에서 각 카드에는 양의 정수가 쓰여 있다. \\n그 다음, 딜러는 N장의 카드를 모두 숫자가 보이도록 바닥에 놓는다. \\n그런 후에 딜러는 숫자 M을 크게 외친다.\\n이제 플레이어는 제한된 시간 안에 N장의 카드 중에서 3장의 카드를 골라야 한다. \\n블랙잭 변형 게임이기 때문에, 플레이어가 고른 카드의 합은 M을 넘지 않으면서 M과 최대한 가깝게 만들어야 한다.\\nN장의 카드에 써져 있는 숫자가 주어졌을 때, \\nM을 넘지 않으면서 M에 최대한 가까운 카드 3장의 합을 구해 출력하시오.\\n\\n첫째 줄에 카드의 개수 N(3 ≤ N ≤ 100)과 M(10 ≤ M ≤ 300,000)이 주어진다. \\n둘째 줄에는 카드에 쓰여 있는 수가 주어지며, 이 값은 100,000을 넘지 않는다.\\n합이 M을 넘지 않는 카드 3장을 찾을 수 있는 경우만 입력으로 주어진다.\\n'"
      ]
     },
     "execution_count": 49,
     "metadata": {},
     "output_type": "execute_result"
    }
   ],
   "source": [
    "'''\n",
    "블랙잭\n",
    "한국 최고의 블랙잭 고수 김정인은 새로운 블랙잭 규칙을 만들어 상근, 창영이와 게임하려고 한다.\n",
    "김정인 버전의 블랙잭에서 각 카드에는 양의 정수가 쓰여 있다. \n",
    "그 다음, 딜러는 N장의 카드를 모두 숫자가 보이도록 바닥에 놓는다. \n",
    "그런 후에 딜러는 숫자 M을 크게 외친다.\n",
    "이제 플레이어는 제한된 시간 안에 N장의 카드 중에서 3장의 카드를 골라야 한다. \n",
    "블랙잭 변형 게임이기 때문에, 플레이어가 고른 카드의 합은 M을 넘지 않으면서 M과 최대한 가깝게 만들어야 한다.\n",
    "N장의 카드에 써져 있는 숫자가 주어졌을 때, \n",
    "M을 넘지 않으면서 M에 최대한 가까운 카드 3장의 합을 구해 출력하시오.\n",
    "\n",
    "첫째 줄에 카드의 개수 N(3 ≤ N ≤ 100)과 M(10 ≤ M ≤ 300,000)이 주어진다. \n",
    "둘째 줄에는 카드에 쓰여 있는 수가 주어지며, 이 값은 100,000을 넘지 않는다.\n",
    "합이 M을 넘지 않는 카드 3장을 찾을 수 있는 경우만 입력으로 주어진다.\n",
    "'''"
   ]
  },
  {
   "cell_type": "code",
   "execution_count": 55,
   "metadata": {},
   "outputs": [
    {
     "name": "stdout",
     "output_type": "stream",
     "text": [
      "10 500\n",
      "93 181 245 214 315 36 185 138 216 295\n",
      "497\n"
     ]
    }
   ],
   "source": [
    "def blackjack():\n",
    "    num_NM= input().split()\n",
    "    num_Card =input().split()\n",
    "    \n",
    "    N= int(num_NM[0])\n",
    "    M= int(num_NM[1])\n",
    "    \n",
    "    num_Card=[int(i) for i in num_Card]\n",
    "    mini=0\n",
    "    temp=300000\n",
    "    for i in range(0,len(num_Card)):\n",
    "        for j in range(i+1, len(num_Card)):\n",
    "            for k in range(j+1, len(num_Card)):\n",
    "                summ = num_Card[i]+num_Card[j]+num_Card[k]\n",
    "                d= M-summ\n",
    "                if d == 0:\n",
    "                    print(summ)\n",
    "                    return\n",
    "                elif d>0 and d<=temp:\n",
    "                    temp = d\n",
    "                    mini = summ\n",
    "    print(mini)\n",
    "    return\n",
    "\n",
    "blackjack()"
   ]
  },
  {
   "cell_type": "code",
   "execution_count": 102,
   "metadata": {},
   "outputs": [],
   "source": [
    "def blackjack():\n",
    "    # 퀵정렬 사용해서 해보기\n",
    "    # 합의 경우의 수를 모두 구한 다음 퀵정렬 후 리스트 내부 값이 M을 넘지 않는 마지막 값을 반환 \n",
    "    num_NM= list(map(int, input().split())) #N=num[0] M=num[1]\n",
    "    num_Card =list(map(int, input().split()))\n",
    "    t=[]\n",
    "    for i in range(0,len(num_Card)):\n",
    "        for j in range(i+1, len(num_Card)):\n",
    "            for k in range(j+1, len(num_Card)):\n",
    "                summ = num_Card[i]+num_Card[j]+num_Card[k]\n",
    "                t.append(summ)\n",
    "    t.sort()\n",
    "    for i in t:\n",
    "        if i <= num_NM[1]:\n",
    "            minimum = i\n",
    "        else:   \n",
    "            pass\n",
    "    \n",
    "    print(minimum)\n",
    "    return \n",
    "\n",
    "blackjack()"
   ]
  },
  {
   "cell_type": "code",
   "execution_count": 103,
   "metadata": {},
   "outputs": [],
   "source": [
    "a=[93, 181, 245, 214, 315, 36, 185, 138, 216, 295]"
   ]
  },
  {
   "cell_type": "code",
   "execution_count": null,
   "metadata": {},
   "outputs": [],
   "source": []
  }
 ],
 "metadata": {
  "kernelspec": {
   "display_name": "Python 3",
   "language": "python",
   "name": "python3"
  },
  "language_info": {
   "codemirror_mode": {
    "name": "ipython",
    "version": 3
   },
   "file_extension": ".py",
   "mimetype": "text/x-python",
   "name": "python",
   "nbconvert_exporter": "python",
   "pygments_lexer": "ipython3",
   "version": "3.7.4"
  }
 },
 "nbformat": 4,
 "nbformat_minor": 2
}
