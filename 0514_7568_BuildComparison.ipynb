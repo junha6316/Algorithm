{
 "cells": [
  {
   "cell_type": "code",
   "execution_count": 264,
   "metadata": {},
   "outputs": [
    {
     "data": {
      "text/plain": [
       "'\\n1. 몸무게와 키를 비교해야된다\\n2. 한학생 A의 몸무게와 키 모두가 학생B 보다 크면 학생 A는 학생 B보다 덩치가 크다\\n3. 반대로 B의 몸무게와 키 모두가 학생A 보다 작으면 학생 B는 학생 A보다 덩치가 작다\\n4. 나머지의 경우에 대해 모두 비슷한 덩치를 갖고 있다.\\n\\n1. 가장 큰 값을 찾는다\\n\\nn개인 배열에서 2개를 뽑아 몸무게와 키를 비교한다.\\nmax_height, max_weight => 최대값\\n\\n'"
      ]
     },
     "execution_count": 264,
     "metadata": {},
     "output_type": "execute_result"
    }
   ],
   "source": [
    "'''\n",
    "문제\n",
    "우리는 사람의 덩치를 키와 몸무게, 이 두 개의 값으로 표현하여 그 등수를 매겨보려고 한다.\n",
    "어떤 사람의 몸무게가 x kg이고 키가 y cm라면 이 사람의 덩치는 (x,y)로 표시된다. \n",
    "두 사람 A 와 B의 덩치가 각각 (x,y), (p,q)라고 할 때 x>p 그리고 y>q 이라면\n",
    "우리는 A의 덩치가 B의 덩치보다 \"더 크다\"고 말한다. \n",
    "예를 들어 어떤 A, B 두 사람의 덩치가 각각 (56,177), (45,165) 라고 한다면 A의 덩치가 B보다 큰 셈이 된다. \n",
    "그런데 서로 다른 덩치끼리 크기를 정할 수 없는 경우도 있다. \n",
    "예를 들어 두 사람 C와 D의 덩치가 각각 (45, 181), (55,173)이라면 \n",
    "몸무게는 D가 C보다 더 무겁고, 키는 C가 더 크므로, \"덩치\"로만 볼 때 \n",
    "C와 D는 누구도 상대방보다 더 크다고 말할 수 없다.\n",
    "N명의 집단에서 각 사람의 덩치 등수는 자신보다 더 \"큰 덩치\"의 사람의 수로 정해진다. \n",
    "만일 자신보다 더 큰 덩치의 사람이 k명이라면 그 사람의 덩치 등수는 k+1이 된다. \n",
    "이렇게 등수를 결정하면 같은 덩치 등수를 가진 사람은 여러 명도 가능하다. \n",
    "아래는 5명으로 이루어진 집단에서 각 사람의 덩치와 그 등수가 표시된 표이다.\n",
    "\n",
    "위 표에서 C보다 더 큰 덩치의 사람이 없으므로 C는 1등이 된다. \n",
    "그리고 A, B, D 각각의 덩치보다 큰 사람은 C뿐이므로 이들은 모두 2등이 된다. \n",
    "그리고 E보다 큰 덩치는 A, B, C, D 이렇게 4명이므로 E의 덩치는 5등이 된다. \n",
    "위 경우에 3등과 4등은 존재하지 않는다. \n",
    "여러분은 학생 N명의 몸무게와 키가 담긴 입력을 읽어서\n",
    "각 사람의 덩치 등수를 계산하여 출력해야 한다.\n",
    "'''\n",
    "\n",
    "'''\n",
    "1. 몸무게와 키를 비교해야된다\n",
    "2. 한학생 A의 몸무게와 키 모두가 학생B 보다 크면 학생 A는 학생 B보다 덩치가 크다\n",
    "3. 반대로 B의 몸무게와 키 모두가 학생A 보다 작으면 학생 B는 학생 A보다 덩치가 작다\n",
    "4. 나머지의 경우에 대해 모두 비슷한 덩치를 갖고 있다.\n",
    "\n",
    "예제 list_build=[['55 185'], [58, 183], [88, 186], [60, 175], [46, 155], [57,159]]\n",
    "'''"
   ]
  },
  {
   "cell_type": "code",
   "execution_count": 263,
   "metadata": {},
   "outputs": [
    {
     "name": "stdout",
     "output_type": "stream",
     "text": [
      "2 2 1 2 6 4 "
     ]
    }
   ],
   "source": [
    "#정답\n",
    "#나보다 큰게 있으면  rank에 +1 하는 방식으로 풀면된다.\n",
    "\n",
    "#입력\n",
    "num= int(input())\n",
    "list_build=[]\n",
    "for i in range(0,num):\n",
    "    a=list(map(int, input().split()))\n",
    "    list_build.append(a)\n",
    "\n",
    "#순위를 매김\n",
    "rank=[1 for i in range(0,len(list_build))]\n",
    "for i in range(0,len(list_build)): \n",
    "    for j in range(0,len(list_build)):\n",
    "        if(list_build[i][0] < list_build[j][0]) and (list_build[i][1] < list_build[j][1]):\n",
    "            rank[i]= rank[i] +1\n",
    "\n",
    "#출력\n",
    "for i in rank:\n",
    "    print(i ,end=' ')"
   ]
  },
  {
   "cell_type": "code",
   "execution_count": 68,
   "metadata": {},
   "outputs": [
    {
     "ename": "KeyboardInterrupt",
     "evalue": "",
     "output_type": "error",
     "traceback": [
      "\u001b[0;31m---------------------------------------------------------------------------\u001b[0m",
      "\u001b[0;31mKeyboardInterrupt\u001b[0m                         Traceback (most recent call last)",
      "\u001b[0;32m<ipython-input-68-8c86dbf540e9>\u001b[0m in \u001b[0;36m<module>\u001b[0;34m\u001b[0m\n\u001b[1;32m      4\u001b[0m \u001b[0;32mwhile\u001b[0m\u001b[0;34m(\u001b[0m\u001b[0ma\u001b[0m\u001b[0;34m!=\u001b[0m\u001b[0mlist_build\u001b[0m\u001b[0;34m)\u001b[0m\u001b[0;34m:\u001b[0m\u001b[0;34m\u001b[0m\u001b[0;34m\u001b[0m\u001b[0m\n\u001b[1;32m      5\u001b[0m     \u001b[0;32mfor\u001b[0m \u001b[0mi\u001b[0m \u001b[0;32min\u001b[0m \u001b[0mrange\u001b[0m\u001b[0;34m(\u001b[0m\u001b[0;36m0\u001b[0m\u001b[0;34m,\u001b[0m \u001b[0mlen\u001b[0m\u001b[0;34m(\u001b[0m\u001b[0mlist_build\u001b[0m\u001b[0;34m)\u001b[0m\u001b[0;34m)\u001b[0m\u001b[0;34m:\u001b[0m\u001b[0;34m\u001b[0m\u001b[0;34m\u001b[0m\u001b[0m\n\u001b[0;32m----> 6\u001b[0;31m         \u001b[0;32mfor\u001b[0m \u001b[0mi\u001b[0m \u001b[0;32min\u001b[0m \u001b[0mrange\u001b[0m\u001b[0;34m(\u001b[0m\u001b[0mi\u001b[0m\u001b[0;34m+\u001b[0m\u001b[0;36m1\u001b[0m\u001b[0;34m,\u001b[0m \u001b[0mlen\u001b[0m\u001b[0;34m(\u001b[0m\u001b[0mlist_build\u001b[0m\u001b[0;34m)\u001b[0m\u001b[0;34m)\u001b[0m\u001b[0;34m:\u001b[0m\u001b[0;34m\u001b[0m\u001b[0;34m\u001b[0m\u001b[0m\n\u001b[0m\u001b[1;32m      7\u001b[0m             \u001b[0;32mif\u001b[0m \u001b[0;34m(\u001b[0m\u001b[0mlist_build\u001b[0m\u001b[0;34m[\u001b[0m\u001b[0mi\u001b[0m\u001b[0;34m]\u001b[0m\u001b[0;34m[\u001b[0m\u001b[0;36m0\u001b[0m\u001b[0;34m]\u001b[0m \u001b[0;34m>\u001b[0m \u001b[0mlist_build\u001b[0m\u001b[0;34m[\u001b[0m\u001b[0mj\u001b[0m\u001b[0;34m]\u001b[0m\u001b[0;34m[\u001b[0m\u001b[0;36m0\u001b[0m\u001b[0;34m]\u001b[0m\u001b[0;34m)\u001b[0m \u001b[0;32mand\u001b[0m \u001b[0;34m(\u001b[0m\u001b[0mlist_build\u001b[0m\u001b[0;34m[\u001b[0m\u001b[0mi\u001b[0m\u001b[0;34m]\u001b[0m\u001b[0;34m[\u001b[0m\u001b[0;36m1\u001b[0m\u001b[0;34m]\u001b[0m \u001b[0;34m>\u001b[0m \u001b[0mlist_build\u001b[0m\u001b[0;34m[\u001b[0m\u001b[0mj\u001b[0m\u001b[0;34m]\u001b[0m\u001b[0;34m[\u001b[0m\u001b[0;36m1\u001b[0m\u001b[0;34m]\u001b[0m\u001b[0;34m)\u001b[0m\u001b[0;34m:\u001b[0m\u001b[0;34m\u001b[0m\u001b[0;34m\u001b[0m\u001b[0m\n\u001b[1;32m      8\u001b[0m                 \u001b[0mmax_height\u001b[0m\u001b[0;34m=\u001b[0m \u001b[0mlist_build\u001b[0m\u001b[0;34m[\u001b[0m\u001b[0mi\u001b[0m\u001b[0;34m]\u001b[0m\u001b[0;34m[\u001b[0m\u001b[0;36m1\u001b[0m\u001b[0;34m]\u001b[0m\u001b[0;34m\u001b[0m\u001b[0;34m\u001b[0m\u001b[0m\n",
      "\u001b[0;31mKeyboardInterrupt\u001b[0m: "
     ]
    }
   ],
   "source": [
    "a=[0 for i in range(0,len(list_build))]\n",
    "rank=[0 for i in range(0,len(list_build))]\n",
    "t=1\n",
    "while(a!=list_build):\n",
    "    for i in range(0, len(list_build)):\n",
    "        for i in range(i+1, len(list_build)):\n",
    "            if (list_build[i][0] > list_build[j][0]) and (list_build[i][1] > list_build[j][1]):\n",
    "                max_height= list_build[i][1]\n",
    "                max_weight= list_build[i][0]\n",
    "                index =i\n",
    "        rank[index] = t\n",
    "        t=t+1\n",
    "        list_build[index]=[0,0]"
   ]
  },
  {
   "cell_type": "code",
   "execution_count": 250,
   "metadata": {},
   "outputs": [
    {
     "ename": "IndentationError",
     "evalue": "unindent does not match any outer indentation level (<tokenize>, line 11)",
     "output_type": "error",
     "traceback": [
      "\u001b[0;36m  File \u001b[0;32m\"<tokenize>\"\u001b[0;36m, line \u001b[0;32m11\u001b[0m\n\u001b[0;31m    elif(list_build[i][0] > max_weight) and (list_build[i][1] > max_height):\u001b[0m\n\u001b[0m    ^\u001b[0m\n\u001b[0;31mIndentationError\u001b[0m\u001b[0;31m:\u001b[0m unindent does not match any outer indentation level\n"
     ]
    }
   ],
   "source": [
    "list_build=[[55, 185], [58, 183], [88, 186], [60, 175], [46, 155], [57,159]]\n",
    "rank=1\n",
    "a= [0 for i in range(0,len(list_build))]\n",
    "max_height=0\n",
    "max_weight=0\n",
    "\n",
    "while(True):\n",
    "    for i in range(0, len(list_build)):\n",
    "         if (list_build[i] =[0,0]):\n",
    "        \n",
    "        elif(list_build[i][0] > max_weight) and (list_build[i][1] > max_height):\n",
    "            max_height= list_build[i][1]\n",
    "            max_weight= list_build[i][0]\n",
    "            index= i\n",
    "    \n",
    "    list_build[index] =[0,0]\n",
    "    a[index]=rank\n",
    "    \n",
    "    for j in range(0, len(list_build)):\n",
    "        if (((list_build[j][0] > max_weight) and (list_build[j][1] < max_height)) or\n",
    "            ((list_build[j][0] < max_weight) and (list_build[j][1] > max_height))):\n",
    "            a[j]= rank\n",
    "            #max_height= list_build[j][1]\n",
    "            #max_weight= list_build[j][0]\n",
    "            print(a)\n",
    "    \n",
    "    rank = rank+1\n",
    "    \n",
    "    max_height=0\n",
    "    max_weight=0\n",
    "            \n",
    "    if (0 not in a):\n",
    "        break;\n",
    "        \n",
    "\n",
    "            "
   ]
  },
  {
   "cell_type": "code",
   "execution_count": 201,
   "metadata": {},
   "outputs": [
    {
     "ename": "SyntaxError",
     "evalue": "invalid syntax (<ipython-input-201-62369798a591>, line 14)",
     "output_type": "error",
     "traceback": [
      "\u001b[0;36m  File \u001b[0;32m\"<ipython-input-201-62369798a591>\"\u001b[0;36m, line \u001b[0;32m14\u001b[0m\n\u001b[0;31m    elif (list_build[i][0] > max_weight) and (list_build[i][1] > max_height):\u001b[0m\n\u001b[0m       ^\u001b[0m\n\u001b[0;31mSyntaxError\u001b[0m\u001b[0;31m:\u001b[0m invalid syntax\n"
     ]
    }
   ],
   "source": [
    "list_build=[[55, 185], [58, 183], [88, 186], [60, 175], [46, 155], [57,159]]\n",
    "a=[[0,0] for i in range(0,len(list_build))]\n",
    "rank=[0 for i in range(0,len(list_build))]\n",
    "t=1\n",
    "\n",
    "max_height =0\n",
    "max_weight =0\n",
    "\n",
    "while(True):\n",
    "    for i in range(0, len(list_build)):\n",
    "        if ((list_build[i][0] == 0) and (list_build[i][1] == 0)):\n",
    "            break;\n",
    "        elif (list_build[i][0] > max_weight) and (list_build[i][1] > max_height):\n",
    "            max_height= list_build[i][1]\n",
    "            max_weight= list_build[i][0]\n",
    "            index =i\n",
    "  \n",
    "    rank[index] = t\n",
    "    list_build[index] =[0,0]\n",
    "            \n",
    "    for j in range(0, len(list_build)):\n",
    "        if ((list_build[i][0] == 0) and (list_build[i][1] == 0)):\n",
    "        elif (((list_build[j][0] > max_weight) and (list_build[j][1] < max_height)) or\n",
    "            ((list_build[j][0] < max_weight) and (list_build[j][1] > max_height))):\n",
    "            rank[i] = rank[index]\n",
    "            list_build[index] =[0,0]\n",
    "   \n",
    "    t=t+1\n",
    "    print(rank)\n",
    "    \n",
    "    max_height =0\n",
    "    max_weight =0\n",
    "    \n",
    "    if(0 not in rank):\n",
    "        break\n",
    "    \n",
    "            \n",
    "\n",
    "            #elif ((list_build[i][0] <= list_build[j][0] and list_build[i][1] >= list_build[j][1])\n",
    "                #or(list_build[i][0] >= list_build[j][0] and list_build[i][1] <= list_build[j][1])):\n",
    "                "
   ]
  },
  {
   "cell_type": "code",
   "execution_count": null,
   "metadata": {},
   "outputs": [],
   "source": [
    "rank"
   ]
  },
  {
   "cell_type": "code",
   "execution_count": 163,
   "metadata": {},
   "outputs": [
    {
     "data": {
      "text/plain": [
       "[[55, 185], [58, 183], [88, 186], [60, 175], [46, 155], [0, 0]]"
      ]
     },
     "execution_count": 163,
     "metadata": {},
     "output_type": "execute_result"
    }
   ],
   "source": [
    "max_height\n",
    "list_build"
   ]
  },
  {
   "cell_type": "code",
   "execution_count": 146,
   "metadata": {},
   "outputs": [
    {
     "data": {
      "text/plain": [
       "[2, 3, 1, 4, 6, 5]"
      ]
     },
     "execution_count": 146,
     "metadata": {},
     "output_type": "execute_result"
    }
   ],
   "source": [
    "rank"
   ]
  },
  {
   "cell_type": "code",
   "execution_count": 111,
   "metadata": {},
   "outputs": [],
   "source": [
    "def find_max(arr):\n",
    "    maxi=0\n",
    "    for i in range(0,len(arr)):\n",
    "        for j in range(i+1, len(arr)):\n",
    "            if arr[i] > arr[j]:\n",
    "                maxi = arr[i]\n",
    "    return maxi\n",
    "        \n",
    "        "
   ]
  },
  {
   "cell_type": "code",
   "execution_count": 129,
   "metadata": {},
   "outputs": [
    {
     "name": "stdout",
     "output_type": "stream",
     "text": [
      "1\n"
     ]
    },
    {
     "data": {
      "text/plain": [
       "9"
      ]
     },
     "execution_count": 129,
     "metadata": {},
     "output_type": "execute_result"
    }
   ],
   "source": [
    "a=[9,2,3,1]\n",
    "maxi=0\n",
    "for i in range(0,len(a)):\n",
    "    if a[i] >= maxi:\n",
    "        maxi = a[i]\n",
    "        print(1)\n",
    "    else:\n",
    "        pass\n",
    "    \n",
    "            \n",
    "\n",
    "maxi"
   ]
  },
  {
   "cell_type": "code",
   "execution_count": 112,
   "metadata": {},
   "outputs": [
    {
     "data": {
      "text/plain": [
       "0"
      ]
     },
     "execution_count": 112,
     "metadata": {},
     "output_type": "execute_result"
    }
   ],
   "source": [
    "a=[1,2,3]\n",
    "find_max(a)"
   ]
  },
  {
   "cell_type": "code",
   "execution_count": null,
   "metadata": {},
   "outputs": [],
   "source": [
    "[1,2] [1,3]"
   ]
  },
  {
   "cell_type": "code",
   "execution_count": null,
   "metadata": {},
   "outputs": [],
   "source": [
    "1234\n",
    "12\n",
    "13\n",
    "14\n",
    "23\n",
    "24\n",
    "34"
   ]
  },
  {
   "cell_type": "code",
   "execution_count": 93,
   "metadata": {},
   "outputs": [
    {
     "data": {
      "text/plain": [
       "[1, 2, 3, 4, 0, 5]"
      ]
     },
     "execution_count": 93,
     "metadata": {},
     "output_type": "execute_result"
    }
   ],
   "source": [
    "rank"
   ]
  },
  {
   "cell_type": "code",
   "execution_count": 16,
   "metadata": {},
   "outputs": [
    {
     "name": "stdout",
     "output_type": "stream",
     "text": [
      "5\n",
      "55 185\n",
      "58 183\n",
      "88 186\n",
      "60 175\n",
      "46 155\n"
     ]
    }
   ],
   "source": [
    "num= int(input())\n",
    "list_build=[]\n",
    "for i in range(0,num):\n",
    "    a=list(map(int, input().split()))\n",
    "    list_build.append(a)"
   ]
  },
  {
   "cell_type": "code",
   "execution_count": null,
   "metadata": {},
   "outputs": [],
   "source": [
    "list_build ="
   ]
  },
  {
   "cell_type": "code",
   "execution_count": 169,
   "metadata": {},
   "outputs": [],
   "source": [
    "import copy\n",
    "list_build_1=[[55, 185], [58, 183], [88, 186], [60, 175], [46, 155], [57,159]]\n",
    "\n",
    "list_build =copy.deepcopy(list_build)"
   ]
  },
  {
   "cell_type": "code",
   "execution_count": 1,
   "metadata": {},
   "outputs": [
    {
     "ename": "KeyboardInterrupt",
     "evalue": "",
     "output_type": "error",
     "traceback": [
      "\u001b[0;31m---------------------------------------------------------------------------\u001b[0m",
      "\u001b[0;31mKeyboardInterrupt\u001b[0m                         Traceback (most recent call last)",
      "\u001b[0;32m~/opt/anaconda3/lib/python3.7/site-packages/ipykernel/kernelbase.py\u001b[0m in \u001b[0;36m_input_request\u001b[0;34m(self, prompt, ident, parent, password)\u001b[0m\n\u001b[1;32m    884\u001b[0m             \u001b[0;32mtry\u001b[0m\u001b[0;34m:\u001b[0m\u001b[0;34m\u001b[0m\u001b[0;34m\u001b[0m\u001b[0m\n\u001b[0;32m--> 885\u001b[0;31m                 \u001b[0mident\u001b[0m\u001b[0;34m,\u001b[0m \u001b[0mreply\u001b[0m \u001b[0;34m=\u001b[0m \u001b[0mself\u001b[0m\u001b[0;34m.\u001b[0m\u001b[0msession\u001b[0m\u001b[0;34m.\u001b[0m\u001b[0mrecv\u001b[0m\u001b[0;34m(\u001b[0m\u001b[0mself\u001b[0m\u001b[0;34m.\u001b[0m\u001b[0mstdin_socket\u001b[0m\u001b[0;34m,\u001b[0m \u001b[0;36m0\u001b[0m\u001b[0;34m)\u001b[0m\u001b[0;34m\u001b[0m\u001b[0;34m\u001b[0m\u001b[0m\n\u001b[0m\u001b[1;32m    886\u001b[0m             \u001b[0;32mexcept\u001b[0m \u001b[0mException\u001b[0m\u001b[0;34m:\u001b[0m\u001b[0;34m\u001b[0m\u001b[0;34m\u001b[0m\u001b[0m\n",
      "\u001b[0;32m~/opt/anaconda3/lib/python3.7/site-packages/jupyter_client/session.py\u001b[0m in \u001b[0;36mrecv\u001b[0;34m(self, socket, mode, content, copy)\u001b[0m\n\u001b[1;32m    802\u001b[0m         \u001b[0;32mtry\u001b[0m\u001b[0;34m:\u001b[0m\u001b[0;34m\u001b[0m\u001b[0;34m\u001b[0m\u001b[0m\n\u001b[0;32m--> 803\u001b[0;31m             \u001b[0mmsg_list\u001b[0m \u001b[0;34m=\u001b[0m \u001b[0msocket\u001b[0m\u001b[0;34m.\u001b[0m\u001b[0mrecv_multipart\u001b[0m\u001b[0;34m(\u001b[0m\u001b[0mmode\u001b[0m\u001b[0;34m,\u001b[0m \u001b[0mcopy\u001b[0m\u001b[0;34m=\u001b[0m\u001b[0mcopy\u001b[0m\u001b[0;34m)\u001b[0m\u001b[0;34m\u001b[0m\u001b[0;34m\u001b[0m\u001b[0m\n\u001b[0m\u001b[1;32m    804\u001b[0m         \u001b[0;32mexcept\u001b[0m \u001b[0mzmq\u001b[0m\u001b[0;34m.\u001b[0m\u001b[0mZMQError\u001b[0m \u001b[0;32mas\u001b[0m \u001b[0me\u001b[0m\u001b[0;34m:\u001b[0m\u001b[0;34m\u001b[0m\u001b[0;34m\u001b[0m\u001b[0m\n",
      "\u001b[0;32m~/opt/anaconda3/lib/python3.7/site-packages/zmq/sugar/socket.py\u001b[0m in \u001b[0;36mrecv_multipart\u001b[0;34m(self, flags, copy, track)\u001b[0m\n\u001b[1;32m    474\u001b[0m         \"\"\"\n\u001b[0;32m--> 475\u001b[0;31m         \u001b[0mparts\u001b[0m \u001b[0;34m=\u001b[0m \u001b[0;34m[\u001b[0m\u001b[0mself\u001b[0m\u001b[0;34m.\u001b[0m\u001b[0mrecv\u001b[0m\u001b[0;34m(\u001b[0m\u001b[0mflags\u001b[0m\u001b[0;34m,\u001b[0m \u001b[0mcopy\u001b[0m\u001b[0;34m=\u001b[0m\u001b[0mcopy\u001b[0m\u001b[0;34m,\u001b[0m \u001b[0mtrack\u001b[0m\u001b[0;34m=\u001b[0m\u001b[0mtrack\u001b[0m\u001b[0;34m)\u001b[0m\u001b[0;34m]\u001b[0m\u001b[0;34m\u001b[0m\u001b[0;34m\u001b[0m\u001b[0m\n\u001b[0m\u001b[1;32m    476\u001b[0m         \u001b[0;31m# have first part already, only loop while more to receive\u001b[0m\u001b[0;34m\u001b[0m\u001b[0;34m\u001b[0m\u001b[0;34m\u001b[0m\u001b[0m\n",
      "\u001b[0;32mzmq/backend/cython/socket.pyx\u001b[0m in \u001b[0;36mzmq.backend.cython.socket.Socket.recv\u001b[0;34m()\u001b[0m\n",
      "\u001b[0;32mzmq/backend/cython/socket.pyx\u001b[0m in \u001b[0;36mzmq.backend.cython.socket.Socket.recv\u001b[0;34m()\u001b[0m\n",
      "\u001b[0;32mzmq/backend/cython/socket.pyx\u001b[0m in \u001b[0;36mzmq.backend.cython.socket._recv_copy\u001b[0;34m()\u001b[0m\n",
      "\u001b[0;32m~/opt/anaconda3/lib/python3.7/site-packages/zmq/backend/cython/checkrc.pxd\u001b[0m in \u001b[0;36mzmq.backend.cython.checkrc._check_rc\u001b[0;34m()\u001b[0m\n",
      "\u001b[0;31mKeyboardInterrupt\u001b[0m: ",
      "\nDuring handling of the above exception, another exception occurred:\n",
      "\u001b[0;31mKeyboardInterrupt\u001b[0m                         Traceback (most recent call last)",
      "\u001b[0;32m<ipython-input-1-2b78a8c3e18c>\u001b[0m in \u001b[0;36m<module>\u001b[0;34m\u001b[0m\n\u001b[1;32m      2\u001b[0m \u001b[0;34m\u001b[0m\u001b[0m\n\u001b[1;32m      3\u001b[0m \u001b[0mtemp\u001b[0m\u001b[0;34m=\u001b[0m\u001b[0;36m0\u001b[0m\u001b[0;34m\u001b[0m\u001b[0;34m\u001b[0m\u001b[0m\n\u001b[0;32m----> 4\u001b[0;31m \u001b[0mnum\u001b[0m\u001b[0;34m=\u001b[0m \u001b[0mint\u001b[0m\u001b[0;34m(\u001b[0m\u001b[0minput\u001b[0m\u001b[0;34m(\u001b[0m\u001b[0;34m)\u001b[0m\u001b[0;34m)\u001b[0m\u001b[0;34m\u001b[0m\u001b[0;34m\u001b[0m\u001b[0m\n\u001b[0m\u001b[1;32m      5\u001b[0m \u001b[0mlist_build_1\u001b[0m\u001b[0;34m=\u001b[0m\u001b[0;34m[\u001b[0m\u001b[0;34m]\u001b[0m\u001b[0;34m\u001b[0m\u001b[0;34m\u001b[0m\u001b[0m\n\u001b[1;32m      6\u001b[0m \u001b[0;32mfor\u001b[0m \u001b[0mi\u001b[0m \u001b[0;32min\u001b[0m \u001b[0mrange\u001b[0m\u001b[0;34m(\u001b[0m\u001b[0;36m0\u001b[0m\u001b[0;34m,\u001b[0m\u001b[0mnum\u001b[0m\u001b[0;34m)\u001b[0m\u001b[0;34m:\u001b[0m\u001b[0;34m\u001b[0m\u001b[0;34m\u001b[0m\u001b[0m\n",
      "\u001b[0;32m~/opt/anaconda3/lib/python3.7/site-packages/ipykernel/kernelbase.py\u001b[0m in \u001b[0;36mraw_input\u001b[0;34m(self, prompt)\u001b[0m\n\u001b[1;32m    858\u001b[0m             \u001b[0mself\u001b[0m\u001b[0;34m.\u001b[0m\u001b[0m_parent_ident\u001b[0m\u001b[0;34m,\u001b[0m\u001b[0;34m\u001b[0m\u001b[0;34m\u001b[0m\u001b[0m\n\u001b[1;32m    859\u001b[0m             \u001b[0mself\u001b[0m\u001b[0;34m.\u001b[0m\u001b[0m_parent_header\u001b[0m\u001b[0;34m,\u001b[0m\u001b[0;34m\u001b[0m\u001b[0;34m\u001b[0m\u001b[0m\n\u001b[0;32m--> 860\u001b[0;31m             \u001b[0mpassword\u001b[0m\u001b[0;34m=\u001b[0m\u001b[0;32mFalse\u001b[0m\u001b[0;34m,\u001b[0m\u001b[0;34m\u001b[0m\u001b[0;34m\u001b[0m\u001b[0m\n\u001b[0m\u001b[1;32m    861\u001b[0m         )\n\u001b[1;32m    862\u001b[0m \u001b[0;34m\u001b[0m\u001b[0m\n",
      "\u001b[0;32m~/opt/anaconda3/lib/python3.7/site-packages/ipykernel/kernelbase.py\u001b[0m in \u001b[0;36m_input_request\u001b[0;34m(self, prompt, ident, parent, password)\u001b[0m\n\u001b[1;32m    888\u001b[0m             \u001b[0;32mexcept\u001b[0m \u001b[0mKeyboardInterrupt\u001b[0m\u001b[0;34m:\u001b[0m\u001b[0;34m\u001b[0m\u001b[0;34m\u001b[0m\u001b[0m\n\u001b[1;32m    889\u001b[0m                 \u001b[0;31m# re-raise KeyboardInterrupt, to truncate traceback\u001b[0m\u001b[0;34m\u001b[0m\u001b[0;34m\u001b[0m\u001b[0;34m\u001b[0m\u001b[0m\n\u001b[0;32m--> 890\u001b[0;31m                 \u001b[0;32mraise\u001b[0m \u001b[0mKeyboardInterrupt\u001b[0m\u001b[0;34m\u001b[0m\u001b[0;34m\u001b[0m\u001b[0m\n\u001b[0m\u001b[1;32m    891\u001b[0m             \u001b[0;32melse\u001b[0m\u001b[0;34m:\u001b[0m\u001b[0;34m\u001b[0m\u001b[0;34m\u001b[0m\u001b[0m\n\u001b[1;32m    892\u001b[0m                 \u001b[0;32mbreak\u001b[0m\u001b[0;34m\u001b[0m\u001b[0;34m\u001b[0m\u001b[0m\n",
      "\u001b[0;31mKeyboardInterrupt\u001b[0m: "
     ]
    }
   ],
   "source": [
    "import copy\n",
    "\n",
    "temp=0\n",
    "num= int(input())\n",
    "list_build_1=[]\n",
    "for i in range(0,num):\n",
    "    a=list(map(int, input().split()))\n",
    "    list_build_1.append(a)\n",
    "    \n",
    "list_build =copy.deepcopy(list_build_1)\n",
    "\n",
    "for i in range(0,len(list_build)):\n",
    "    for j in range(i+1,len(list_build)):\n",
    "        if (list_build[i][0] < list_build[j][0] and list_build[i][1] < list_build[j][1]):\n",
    "            temp=list_build[i]\n",
    "            list_build[i]= list_build[j]\n",
    "            list_build[j]=temp\n",
    "t=1\n",
    "rank=[]\n",
    "for i in range(0, (len(list_build))):\n",
    "    if(i==0):\n",
    "        rank.append(t)\n",
    "    elif (list_build[i-1][0] > list_build[i][0] and list_build[i-1][1] > list_build[i][1]):\n",
    "        t=t+1\n",
    "        rank.append(i+1)\n",
    "    elif((list_build[i-1][0] <= list_build[i][0] and list_build[i-1][1] >= list_build[i][1])\n",
    "        or(list_build[i-1][0] >= list_build[i][0] and list_build[i-1][1] <= list_build[i][1])):\n",
    "        rank.append(t)\n",
    "\n",
    "for i in range(0,len(list_build)):\n",
    "    for j in range(0,len(list_build)):\n",
    "        if list_build[i] ==list_build_1[j]:\n",
    "            temp=rank[i]\n",
    "            rank[i]=rank[j]\n",
    "            rank[j]=temp\n",
    "\n",
    "for i in rank:\n",
    "    print(i ,end=' ')"
   ]
  },
  {
   "cell_type": "code",
   "execution_count": 23,
   "metadata": {},
   "outputs": [],
   "source": [
    "list_build_1=[[2,2],[1,1],[3,3]]\n",
    "t=1\n",
    "list_a = [0 for i in range(len(list_build))]"
   ]
  },
  {
   "cell_type": "code",
   "execution_count": 24,
   "metadata": {},
   "outputs": [],
   "source": [
    "for i in range(0,len(list_build)):\n",
    "    for j in range(i+1,len(list_build)):\n",
    "        if (list_build[i][0] > list_build[j][0] and list_build[i][1] > list_build[j][1]):\n",
    "            list_a[i] = t\n",
    "            t=t+1\n",
    "        elif ((list_build[i][0] >= list_build[j][0] and list_build[i][1] <= list_build[j][1]) or\n",
    "             (list_build[i][0] <= list_build[j][0] and list_build[i][1] >= list_build[j][1])):\n",
    "            list_a[i] = t\n",
    "            \n",
    "        \n",
    "        \n",
    "        \n",
    "            \n",
    "            "
   ]
  },
  {
   "cell_type": "code",
   "execution_count": 25,
   "metadata": {},
   "outputs": [
    {
     "data": {
      "text/plain": [
       "[4, 7, 9, 10, 0]"
      ]
     },
     "execution_count": 25,
     "metadata": {},
     "output_type": "execute_result"
    }
   ],
   "source": [
    "list_a"
   ]
  },
  {
   "cell_type": "code",
   "execution_count": 60,
   "metadata": {},
   "outputs": [
    {
     "name": "stdout",
     "output_type": "stream",
     "text": [
      "5 4 3 1 2 "
     ]
    }
   ],
   "source": [
    "\n",
    "\n",
    "list_build_1=[[55, 185], [58, 183], [88, 186], [60, 175], [46, 155]]\n",
    "\n",
    "list_build_1=[[2,2],[1,1],[3,3],[4,4],[5,5]]\n",
    "\n",
    "'''\n",
    "import copy\n",
    "\n",
    "temp=0\n",
    "num= int(input())\n",
    "list_build_1=[]\n",
    "for i in range(0,num):\n",
    "    a=list(map(int, input().split()))\n",
    "    list_build_1.append(a)\n",
    "'''\n",
    "temp=0\n",
    "t=1\n",
    "rank=[]\n",
    "list_build =copy.deepcopy(list_build_1)\n",
    "\n",
    "for i in range(0,len(list_build)):\n",
    "    for j in range(i+1,len(list_build)):\n",
    "        if (list_build[i][0] < list_build[j][0] and list_build[i][1] < list_build[j][1]):\n",
    "\n",
    "            temp=list_build[i]\n",
    "            list_build[i]= list_build[j]\n",
    "            list_build[j]=temp\n",
    "\n",
    "for i in range(0, (len(list_build))):\n",
    "    if(i==0):\n",
    "        rank.append(1)\n",
    "    elif (list_build[i-1][0] > list_build[i][0] and list_build[i-1][1] > list_build[i][1]):\n",
    "        rank.append(i+1)\n",
    "        t=t+1\n",
    "    elif((list_build[i-1][0] <= list_build[i][0] and list_build[i-1][1] >= list_build[i][1])\n",
    "        or(list_build[i-1][0] >= list_build[i][0] and list_build[i-1][1] <= list_build[i][1])):\n",
    "        rank.append(t)\n",
    "        \n",
    "a=[0 for i in range(0,len(list_build_1))]\n",
    "\n",
    "for i in range(0, len(list_build_1)): #원본 인덱스\n",
    "    for j in range(0, len(list_build_1)): #사본 인덱스\n",
    "        if list_build[i] == list_build_1[j]: \n",
    "            a[i]=rank[j]\n",
    "\n",
    "for i in a:\n",
    "    print(i ,end=' ')"
   ]
  },
  {
   "cell_type": "code",
   "execution_count": 48,
   "metadata": {},
   "outputs": [
    {
     "data": {
      "text/plain": [
       "[[2, 2], [1, 1], [3, 3], [4, 4], [5, 5]]"
      ]
     },
     "execution_count": 48,
     "metadata": {},
     "output_type": "execute_result"
    }
   ],
   "source": [
    "rank\n",
    "list_build_1"
   ]
  },
  {
   "cell_type": "code",
   "execution_count": 49,
   "metadata": {},
   "outputs": [
    {
     "data": {
      "text/plain": [
       "0"
      ]
     },
     "execution_count": 49,
     "metadata": {},
     "output_type": "execute_result"
    }
   ],
   "source": [
    "list_build_1.index([2,2])"
   ]
  },
  {
   "cell_type": "code",
   "execution_count": null,
   "metadata": {},
   "outputs": [],
   "source": [
    "'''\n",
    "list_build_1 (원본)\n",
    "\n",
    "list_build  (순서대로 나열)\n",
    "\n",
    "rank\n",
    "\n",
    "원본과 사본을 비교해서 rank를 원본 순서대로 바꾸는 것\n",
    "원본과 사본의 저장된 값 / ==\n",
    "\n",
    "\n",
    "\n",
    "'''"
   ]
  },
  {
   "cell_type": "code",
   "execution_count": 32,
   "metadata": {},
   "outputs": [],
   "source": [
    "a=[0 for i in range(0,len(list_build_1))]"
   ]
  },
  {
   "cell_type": "code",
   "execution_count": null,
   "metadata": {},
   "outputs": [],
   "source": [
    "list_build_1"
   ]
  },
  {
   "cell_type": "code",
   "execution_count": 188,
   "metadata": {},
   "outputs": [
    {
     "data": {
      "text/plain": [
       "[2, 2, 1]"
      ]
     },
     "execution_count": 188,
     "metadata": {},
     "output_type": "execute_result"
    }
   ],
   "source": [
    "list_build=[[55, 185], [58, 183], [88, 186], [60, 175], [46, 155]]\n",
    "rank"
   ]
  },
  {
   "cell_type": "code",
   "execution_count": 61,
   "metadata": {},
   "outputs": [],
   "source": [
    "rank=[]\n",
    "for i in range(0,len(list_build)):\n",
    "    for j in range(i+1,len(list_build)):\n",
    "        if (list_build[i][0] < list_build[j][0] and list_build[i][1] < list_build[j][1]):\n",
    "            \n",
    "            \n",
    "            '''\n",
    "            temp=list_build[i]\n",
    "            list_build[i]= list_build[j]\n",
    "            list_build[j]=temp\n",
    "            '''"
   ]
  },
  {
   "cell_type": "code",
   "execution_count": 62,
   "metadata": {},
   "outputs": [
    {
     "data": {
      "text/plain": [
       "[[88, 186], [58, 183], [55, 185], [60, 175], [46, 155]]"
      ]
     },
     "execution_count": 62,
     "metadata": {},
     "output_type": "execute_result"
    }
   ],
   "source": [
    "list_build"
   ]
  },
  {
   "cell_type": "code",
   "execution_count": 58,
   "metadata": {},
   "outputs": [
    {
     "data": {
      "text/plain": [
       "[1, 2, 2, 2, 2]"
      ]
     },
     "execution_count": 58,
     "metadata": {},
     "output_type": "execute_result"
    }
   ],
   "source": [
    "rank"
   ]
  },
  {
   "cell_type": "code",
   "execution_count": null,
   "metadata": {},
   "outputs": [],
   "source": [
    "'''\n",
    "둘다 크면 등수 부야\n",
    "둘중에 하나만 크면 동일 등수\n",
    "'''"
   ]
  }
 ],
 "metadata": {
  "kernelspec": {
   "display_name": "Python 3",
   "language": "python",
   "name": "python3"
  },
  "language_info": {
   "codemirror_mode": {
    "name": "ipython",
    "version": 3
   },
   "file_extension": ".py",
   "mimetype": "text/x-python",
   "name": "python",
   "nbconvert_exporter": "python",
   "pygments_lexer": "ipython3",
   "version": "3.7.4"
  }
 },
 "nbformat": 4,
 "nbformat_minor": 2
}
