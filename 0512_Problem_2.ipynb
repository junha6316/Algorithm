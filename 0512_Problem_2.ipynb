{
 "cells": [
  {
   "cell_type": "code",
   "execution_count": 3,
   "metadata": {},
   "outputs": [],
   "source": [
    "'''\n",
    "숫자 맞추기\n",
    "'''"
   ]
  },
  {
   "cell_type": "code",
   "execution_count": 5,
   "metadata": {},
   "outputs": [
    {
     "name": "stdout",
     "output_type": "stream",
     "text": [
      "20\n",
      "적어주신 숫자가 작습니다\n",
      "50\n",
      "적어주신 숫자가 작습니다\n",
      "75\n",
      "적어주신 숫자가 큽니다\n",
      "60\n",
      "적어주신 숫자가 작습니다\n",
      "70\n",
      "적어주신 숫자가 큽니다\n",
      "65\n",
      "정답입니다\n"
     ]
    }
   ],
   "source": [
    "import random\n",
    "answer=random.randint(1,100)\n",
    "i=0\n",
    "while(1):\n",
    "    \n",
    "    num=int(input())\n",
    "    if num > answer:\n",
    "        print(\"적어주신 숫자가 큽니다\")\n",
    "    elif num < answer:\n",
    "        print(\"적어주신 숫자가 작습니다\")\n",
    "    else:\n",
    "        print(\"정답입니다\")\n",
    "        break\n"
   ]
  },
  {
   "cell_type": "code",
   "execution_count": null,
   "metadata": {},
   "outputs": [],
   "source": []
  }
 ],
 "metadata": {
  "kernelspec": {
   "display_name": "Python 3",
   "language": "python",
   "name": "python3"
  },
  "language_info": {
   "codemirror_mode": {
    "name": "ipython",
    "version": 3
   },
   "file_extension": ".py",
   "mimetype": "text/x-python",
   "name": "python",
   "nbconvert_exporter": "python",
   "pygments_lexer": "ipython3",
   "version": "3.7.4"
  }
 },
 "nbformat": 4,
 "nbformat_minor": 2
}
